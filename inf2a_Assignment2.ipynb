{
 "cells": [
  {
   "cell_type": "markdown",
   "metadata": {},
   "source": [
    "# Statements.py"
   ]
  },
  {
   "cell_type": "code",
   "execution_count": 1,
   "metadata": {},
   "outputs": [],
   "source": [
    "import nltk"
   ]
  },
  {
   "cell_type": "code",
   "execution_count": 279,
   "metadata": {},
   "outputs": [],
   "source": [
    "# File: statements.py\n",
    "# Template file for Informatics 2A Assignment 2:\n",
    "# 'A Natural Language Query System in Python/NLTK'\n",
    "\n",
    "# John Longley, November 2012\n",
    "# Revised November 2013 and November 2014 with help from Nikolay Bogoychev\n",
    "# Revised November 2015 by Toms Bergmanis\n",
    "# Revised October 2017 by Chunchuan Lyu\n",
    "\n",
    "\n",
    "# PART A: Processing statements\n",
    "\n",
    "# use defaultdict to create a dictionary WITHOUT unique keys\n",
    "from collections import defaultdict\n",
    "\n",
    "def add(lst,item):\n",
    "    if (item not in lst):\n",
    "        lst.insert(len(lst),item)\n",
    "\n",
    "class Lexicon:\n",
    "    \"\"\"stores known word stems of various part-of-speech categories\"\"\"\n",
    "    def __init__(self):\n",
    "        self.dictionary = defaultdict(list)\n",
    "    \n",
    "    def add(self, stem, cat):\n",
    "        self.dictionary[stem].append(cat)\n",
    "        \n",
    "    def getall(self, cat):\n",
    "        list = []\n",
    "        for key in self.dictionary.keys():\n",
    "            if self.dictionary[key] == [cat]:\n",
    "                list.append(key)\n",
    "        return list\n",
    "        \n",
    "\n",
    "class FactBase:\n",
    "    \"\"\"stores unary and binary relational facts\"\"\"\n",
    "    # two dictionaries: one for unary and one for binary\n",
    "    def __init__(self):\n",
    "        self.unary = defaultdict(list)\n",
    "        self.binary = defaultdict(list)\n",
    "    \n",
    "    def addUnary(self, pred, e1):\n",
    "        self.unary[pred] = e1\n",
    "        \n",
    "    def queryUnary(self, pred, e1):\n",
    "        if pred in self.unary.keys():\n",
    "            if self.unary[pred] == e1:\n",
    "                return True\n",
    "            else:\n",
    "                return False\n",
    "    \n",
    "    def addBinary(self, pred, e1, e2):\n",
    "        self.binary[pred] = (e1, e2)\n",
    "    \n",
    "    def queryBinary(self, pred, e1, e2):\n",
    "        if pred in self.binary.keys():\n",
    "            if self.binary[pred] == (e1, e2):\n",
    "                return True\n",
    "            else:\n",
    "                return False\n",
    "    \n",
    "\n",
    "import re\n",
    "from nltk.corpus import brown \n",
    "\n",
    "def endswith(string, suffix):\n",
    "    n = len(suffix)\n",
    "    return (string[-n:] == suffix)\n",
    "\n",
    "def verb_stem(s):\n",
    "    \"\"\"extracts the stem from the 3sg form of a verb, or returns empty string\"\"\"\n",
    "    \n",
    "    # stem ends in anything except s,x,y,z,ch,sh OR a vowel, add s (eats, tells, shows)\n",
    "    #exceptions_1 = ['s','x','y','z','a','e','i','o','u']\n",
    "    #exceptions_2 = ['ch','sh']\n",
    "    #if (s[-2:] != exceptions_1 and s[-3:] != exceptions_2):\n",
    "    #    return s[:-1]\n",
    "    #if the stem ends in y preceeded by a vowel, simply add s (pays, buys)\n",
    "    if (re.match(\"[aeiou]y\", s[-3:-1])):\n",
    "        return s[:-1]\n",
    "    #if the stem ends in y preceded by a non-vowel and contains at least three letters, change the y to ies\n",
    "    if (endswith(s,'ies')):\n",
    "        if re.match('.*[^aeiou]$', s[:-3]):\n",
    "            if len(s) > 4:\n",
    "                return s[:-3] + 'y'\n",
    "            elif len(s) == 4:\n",
    "                return s[:-1]\n",
    "\n",
    "def add_proper_name (w,lx):\n",
    "    \"\"\"adds a name to a lexicon, checking if first letter is uppercase\"\"\"\n",
    "    if ('A' <= w[0] and w[0] <= 'Z'):\n",
    "        lx.add(w,'P')\n",
    "        return ''\n",
    "    else:\n",
    "        return (w + \" isn't a proper name\")\n",
    "\n",
    "def process_statement (lx,wlist,fb):\n",
    "    \"\"\"analyses a statement and updates lexicon and fact base accordingly;\n",
    "       returns '' if successful, or error message if not.\"\"\"\n",
    "    # Grammar for the statement language is:\n",
    "    #   S  -> P is AR Ns | P is A | P Is | P Ts P\n",
    "    #   AR -> a | an\n",
    "    # We parse this in an ad hoc way.\n",
    "    msg = add_proper_name (wlist[0],lx)\n",
    "    if (msg == ''):\n",
    "        if (wlist[1] == 'is'):\n",
    "            if (wlist[2] in ['a','an']):\n",
    "                lx.add (wlist[3],'N')\n",
    "                fb.addUnary ('N_'+wlist[3],wlist[0])\n",
    "            else:\n",
    "                lx.add (wlist[2],'A')\n",
    "                fb.addUnary ('A_'+wlist[2],wlist[0])\n",
    "        else:\n",
    "            stem = verb_stem(wlist[1])\n",
    "            if (len(wlist) == 2):\n",
    "                lx.add (stem,'I')\n",
    "                fb.addUnary ('I_'+stem,wlist[0])\n",
    "            else:\n",
    "                msg = add_proper_name (wlist[2],lx)\n",
    "                if (msg == ''):\n",
    "                    lx.add (stem,'T')\n",
    "                    fb.addBinary ('T_'+stem,wlist[0],wlist[2])\n",
    "    return msg\n",
    "                        \n",
    "# End of PART A.\n",
    "\n"
   ]
  },
  {
   "cell_type": "code",
   "execution_count": 280,
   "metadata": {},
   "outputs": [],
   "source": [
    "lx = Lexicon()"
   ]
  },
  {
   "cell_type": "code",
   "execution_count": 281,
   "metadata": {},
   "outputs": [],
   "source": [
    "lx.add(\"John\", \"P\")\n",
    "lx.add(\"Mary\", \"P\")\n",
    "lx.add(\"like\", \"T\")"
   ]
  },
  {
   "cell_type": "code",
   "execution_count": 282,
   "metadata": {},
   "outputs": [
    {
     "data": {
      "text/plain": [
       "['John', 'Mary']"
      ]
     },
     "execution_count": 282,
     "metadata": {},
     "output_type": "execute_result"
    }
   ],
   "source": [
    "lx.getall(\"P\")"
   ]
  },
  {
   "cell_type": "code",
   "execution_count": 283,
   "metadata": {},
   "outputs": [
    {
     "data": {
      "text/plain": [
       "True"
      ]
     },
     "execution_count": 283,
     "metadata": {},
     "output_type": "execute_result"
    }
   ],
   "source": [
    "fb = FactBase()\n",
    "fb.addUnary(\"duck\",\"John\")\n",
    "fb.addBinary(\"love\",\"John\",\"Mary\")\n",
    "fb.queryUnary(\"duck\",\"John\")"
   ]
  },
  {
   "cell_type": "code",
   "execution_count": 284,
   "metadata": {},
   "outputs": [
    {
     "data": {
      "text/plain": [
       "False"
      ]
     },
     "execution_count": 284,
     "metadata": {},
     "output_type": "execute_result"
    }
   ],
   "source": [
    "fb.queryBinary(\"love\",\"Mary\",\"John\")"
   ]
  },
  {
   "cell_type": "code",
   "execution_count": 285,
   "metadata": {},
   "outputs": [
    {
     "data": {
      "text/plain": [
       "True"
      ]
     },
     "execution_count": 285,
     "metadata": {},
     "output_type": "execute_result"
    }
   ],
   "source": [
    "fb.queryBinary(\"love\",\"John\",\"Mary\")"
   ]
  },
  {
   "cell_type": "code",
   "execution_count": 286,
   "metadata": {},
   "outputs": [],
   "source": [
    "verb_stem('eats')\n",
    "verb_stem('tells')\n",
    "#verb_stem('shows')"
   ]
  },
  {
   "cell_type": "code",
   "execution_count": 287,
   "metadata": {},
   "outputs": [
    {
     "data": {
      "text/plain": [
       "'pay'"
      ]
     },
     "execution_count": 287,
     "metadata": {},
     "output_type": "execute_result"
    }
   ],
   "source": [
    "verb_stem('pays')"
   ]
  },
  {
   "cell_type": "code",
   "execution_count": 288,
   "metadata": {},
   "outputs": [
    {
     "data": {
      "text/plain": [
       "'buy'"
      ]
     },
     "execution_count": 288,
     "metadata": {},
     "output_type": "execute_result"
    }
   ],
   "source": [
    "verb_stem('buys')"
   ]
  },
  {
   "cell_type": "code",
   "execution_count": 289,
   "metadata": {},
   "outputs": [
    {
     "data": {
      "text/plain": [
       "'unify'"
      ]
     },
     "execution_count": 289,
     "metadata": {},
     "output_type": "execute_result"
    }
   ],
   "source": [
    "verb_stem('unifies')"
   ]
  },
  {
   "cell_type": "code",
   "execution_count": 290,
   "metadata": {},
   "outputs": [
    {
     "data": {
      "text/plain": [
       "True"
      ]
     },
     "execution_count": 290,
     "metadata": {},
     "output_type": "execute_result"
    }
   ],
   "source": [
    "endsWith('unifies','ies')"
   ]
  },
  {
   "cell_type": "code",
   "execution_count": 291,
   "metadata": {},
   "outputs": [
    {
     "data": {
      "text/plain": [
       "'unify'"
      ]
     },
     "execution_count": 291,
     "metadata": {},
     "output_type": "execute_result"
    }
   ],
   "source": [
    "verb_stem('unifies')"
   ]
  },
  {
   "cell_type": "code",
   "execution_count": 298,
   "metadata": {},
   "outputs": [],
   "source": [
    "from collections import defaultdict\n",
    "\n",
    "def add(lst,item):\n",
    "    if (item not in lst):\n",
    "        lst.insert(len(lst),item)\n",
    "\n",
    "class Lexicon:\n",
    "    \"\"\"stores known word stems of various part-of-speech categories\"\"\"\n",
    "    def __init__(self):\n",
    "        self.dictionary = defaultdict(list)\n",
    "    \n",
    "    def add(self, stem, cat):\n",
    "        self.dictionary[stem].append(cat)\n",
    "        \n",
    "    def getall(self, cat):\n",
    "        list = []\n",
    "        for key in self.dictionary.keys():\n",
    "            if self.dictionary[key] == [cat]:\n",
    "                list.append(key)\n",
    "        return list\n",
    "        "
   ]
  },
  {
   "cell_type": "code",
   "execution_count": 299,
   "metadata": {},
   "outputs": [],
   "source": [
    "lx = Lexicon()\n",
    "lx.add(\"John\", \"P\")\n",
    "lx.add(\"Mary\", \"P\")\n",
    "lx.add(\"like\", \"T\")"
   ]
  },
  {
   "cell_type": "code",
   "execution_count": 300,
   "metadata": {},
   "outputs": [
    {
     "data": {
      "text/plain": [
       "['John', 'Mary']"
      ]
     },
     "execution_count": 300,
     "metadata": {},
     "output_type": "execute_result"
    }
   ],
   "source": [
    "lx.getall(\"P\")"
   ]
  },
  {
   "cell_type": "code",
   "execution_count": null,
   "metadata": {},
   "outputs": [],
   "source": []
  },
  {
   "cell_type": "code",
   "execution_count": null,
   "metadata": {},
   "outputs": [],
   "source": []
  }
 ],
 "metadata": {
  "kernelspec": {
   "display_name": "Python 2",
   "language": "python",
   "name": "python2"
  },
  "language_info": {
   "codemirror_mode": {
    "name": "ipython",
    "version": 2
   },
   "file_extension": ".py",
   "mimetype": "text/x-python",
   "name": "python",
   "nbconvert_exporter": "python",
   "pygments_lexer": "ipython2",
   "version": "2.7.15"
  }
 },
 "nbformat": 4,
 "nbformat_minor": 2
}
